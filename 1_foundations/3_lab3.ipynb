{
 "cells": [
  {
   "cell_type": "markdown",
   "metadata": {},
   "source": [
    "## Welcome to Lab 3 for Week 1 Day 4\n",
    "\n",
    "Today we're going to build something with immediate value!\n",
    "\n",
    "In the folder `me` I've put a single file `linkedin.pdf` - it's a PDF download of my LinkedIn profile.\n",
    "\n",
    "Please replace it with yours!\n",
    "\n",
    "I've also made a file called `summary.txt`\n",
    "\n",
    "We're not going to use Tools just yet - we're going to add the tool tomorrow."
   ]
  },
  {
   "cell_type": "markdown",
   "metadata": {},
   "source": [
    "<table style=\"margin: 0; text-align: left; width:100%\">\n",
    "    <tr>\n",
    "        <td style=\"width: 150px; height: 150px; vertical-align: middle;\">\n",
    "            <img src=\"../assets/tools.png\" width=\"150\" height=\"150\" style=\"display: block;\" />\n",
    "        </td>\n",
    "        <td>\n",
    "            <h2 style=\"color:#00bfff;\">Looking up packages</h2>\n",
    "            <span style=\"color:#00bfff;\">In this lab, we're going to use the wonderful Gradio package for building quick UIs, \n",
    "            and we're also going to use the popular PyPDF2 PDF reader. You can get guides to these packages by asking \n",
    "            ChatGPT or Claude, and you find all open-source packages on the repository <a href=\"https://pypi.org\">https://pypi.org</a>.\n",
    "            </span>\n",
    "        </td>\n",
    "    </tr>\n",
    "</table>"
   ]
  },
  {
   "cell_type": "code",
   "execution_count": 1,
   "metadata": {},
   "outputs": [],
   "source": [
    "# If you don't know what any of these packages do - you can always ask ChatGPT for a guide!\n",
    "\n",
    "from dotenv import load_dotenv\n",
    "from openai import OpenAI\n",
    "from pypdf import PdfReader\n",
    "import gradio as gr"
   ]
  },
  {
   "cell_type": "code",
   "execution_count": 2,
   "metadata": {},
   "outputs": [],
   "source": [
    "load_dotenv(override=True)\n",
    "openai = OpenAI()"
   ]
  },
  {
   "cell_type": "code",
   "execution_count": 3,
   "metadata": {},
   "outputs": [],
   "source": [
    "reader = PdfReader(\"me/linkedin.pdf\")\n",
    "linkedin = \"\"\n",
    "for page in reader.pages:\n",
    "    text = page.extract_text()\n",
    "    if text:\n",
    "        linkedin += text"
   ]
  },
  {
   "cell_type": "code",
   "execution_count": 4,
   "metadata": {},
   "outputs": [
    {
     "name": "stdout",
     "output_type": "stream",
     "text": [
      "   \n",
      "Contact\n",
      "36lima@gmail.com\n",
      "www.linkedin.com/in/kelly-scott-\n",
      "netterville (LinkedIn)\n",
      "Top Skills\n",
      "Responsive Web Design\n",
      "Cascading Style Sheets (CSS)\n",
      "JUnit\n",
      "Certifications\n",
      "Tools of the Trade: Linux and SQL\n",
      "Microsoft Certified: Azure\n",
      "Fundamentals\n",
      "Connect and Protect: Networks and\n",
      "Network Security\n",
      "Play It Safe: Manage Security Risks\n",
      "Foundations of Cybersecurity\n",
      "Kelly Netterville\n",
      "Software Developer with Security Focus || Continuous Learning is\n",
      "a Passion || Experienced IT Professional || Proud US Army Veteran\n",
      "(1988-1997).\n",
      "Fairfield Bay, Arkansas, United States\n",
      "Summary\n",
      "Whether it's learning new languages, playing music, or learning how\n",
      "to fly a helicopter, I love a challenge, especially one that exposes me\n",
      "to new concepts and ideas. \n",
      "I began my career in technology in the Army as a fresh-faced 17-\n",
      "year-old. After getting out and rejoining civilian life, I continued that\n",
      "path and progressed from a software test role to Management and,\n",
      "then into software development, network engineering, and, most\n",
      "recently, security. I am privileged to have enjoyed a wide range of\n",
      "roles, technologies, co-workers, and amazing mentors.\n",
      "Whether it's as a new team member, a technical SME, or in a\n",
      "leadership position, my goal is always to provide a positive impact,\n",
      "focus on customer and stakeholder satisfaction, and never stop\n",
      "learning and growing.\n",
      "Experience\n",
      "Calian Group\n",
      "Security Operations Center Analyst - Tier 2\n",
      "February 2024 - Present (1 year 5 months)\n",
      "United States\n",
      "Tech Elevator\n",
      "Java Development Bootcamp Student\n",
      "October 2023 - January 2024 (4 months)\n",
      "National Live Remote\n",
      "Currently enrolled as a Java coding bootcamp student at Tech Elevator.\n",
      "* Capstone Project to Emulate Vending Machine functionality using object\n",
      "oriented principles.\n",
      "  Page 1 of 4   \n",
      "* Working through self-study in parallel with class to refresh knowledge on\n",
      "Ruby and Rails.\n",
      "Kandy Communications, an AVCTechnologies company\n",
      "2 years 10 months\n",
      "Senior Manager, Cloud Security\n",
      "September 2021 - October 2023 (2 years 2 months)\n",
      "Morrisville, North Carolina, United States\n",
      "* Built/Trained Security Operations Team\n",
      "* Primed Incident Response from Security Operations and contributed to\n",
      "ongoing process evolution.\n",
      "* Responsible for vulnerability scans and  vulnerability management across\n",
      "multiple data centers globally.\n",
      "*Drove vendor selection process (including product evaluations based on cost\n",
      "and functionality) for various security related tools and mSOC.\n",
      "Kandy Network Architect\n",
      "January 2021 - September 2021 (9 months)\n",
      "Morrisville, North Carolina, United States\n",
      "* Provided 24/7/365 Network Engineering Support for 8 Global Data Centers.\n",
      "* Designed and Implemented customer interconnects and core networks\n",
      "across all data centers.\n",
      "* Trained and mentored network engineering team members.\n",
      "Genband\n",
      "NUViA Operations Engineer\n",
      "September 2013 - January 2021 (7 years 5 months)\n",
      "Research Triangle Park, NC 27706\n",
      "Implementation, Design, and Support of a global Unified communications\n",
      "network.\n",
      "* 24/7/365 Support across all global Data Centers.\n",
      "* Worked with diverse team to plan and execute multiple data center\n",
      "relocation without impacting customer experience including customers in law\n",
      "enforcement and emergency services.\n",
      "Cisco Systems\n",
      "7 years 5 months\n",
      "Operations Management\n",
      "May 2010 - August 2013 (3 years 4 months)\n",
      "Operations Management for Engineering Infrastructure Services.\n",
      "  Page 2 of 4   \n",
      "* Project Management multiple independent projects related to lab tools\n",
      "* Worked with Financial Analyst to manage contract resources (funding, hiring,\n",
      "termination, interviewing, vendor management and selection).\n",
      "Solution Test Engineer\n",
      "September 2009 - May 2010 (9 months)\n",
      "* Executed solution test on linecard based Video quality monitoring on the\n",
      "ASR9000 and 7600 platforms. * Verified multiple video quality metrics on\n",
      "various multicast video streams (H.246, MPEG-2, SD and HD, compressed\n",
      "and uncompressed).\n",
      "* Performed lab config to setup MPLS Tunneling test environment and worked\n",
      "with larger team to execute related testing.\n",
      "Verify results to using industry tools metrics (IneoQuest, Anue, Ixia)\n",
      "Business Operations Manager - NSITE\n",
      "April 2006 - December 2009 (3 years 9 months)\n",
      "* Managed NSITE Technical Writing team responsible for generating customer\n",
      "facing documentation for Cisco Validated Solutions.\n",
      "* Managed NSITE web development team responsible for internal tools related\n",
      "to lab operations.\n",
      "* Led daily business operations (financial tracking, program reviews,\n",
      "integration with partner organizations, and driving tools and process\n",
      "innovation).\n",
      "* Identified and closed on non-traditional funding source that resulted in $18k\n",
      "of additional funding resulting in saved jobs.\n",
      "Project Lead - Managed Services (VoIP) Solution Test\n",
      "April 2006 - August 2008 (2 years 5 months)\n",
      "Project Management and Technical lead for solution test of Managed Services\n",
      "VoIP project.\n",
      "* Execute System level test for Cisco BTS10200 and related VoIP solution as a\n",
      "member of the larger test team. \n",
      "* Identify, track and validate issues found during test process.\n",
      "Nortel Networks\n",
      "Project Lead - CS2K Solution Test\n",
      "April 2004 - May 2005 (1 year 2 months)\n",
      "* Team Lead and project manager for CS2k solution test. Lead team of\n",
      "engineers responsible for writing and executing test plans for Nortel's VoIP\n",
      "Call Server 2000. \n",
      "  Page 3 of 4   \n",
      "* Testing focused on system capacity, reliability, and scale. \n",
      "* Responsible for helping drive defect resolution and solution quality\n",
      "improvements.\n",
      "US Army\n",
      "36L MOS - Data and Voice Communications (Operations/Maintenance)\n",
      "1989 - 1997 (8 years)\n",
      "Education\n",
      "Tech Elevator\n",
      "Java Web Application Development Bootcamp · (October 2023)\n",
      "  Page 4 of 4\n"
     ]
    }
   ],
   "source": [
    "print(linkedin)"
   ]
  },
  {
   "cell_type": "code",
   "execution_count": 5,
   "metadata": {},
   "outputs": [],
   "source": [
    "with open(\"me/summary.txt\", \"r\", encoding=\"utf-8\") as f:\n",
    "    summary = f.read()"
   ]
  },
  {
   "cell_type": "code",
   "execution_count": 6,
   "metadata": {},
   "outputs": [],
   "source": [
    "name = \"Kelly Netterville\""
   ]
  },
  {
   "cell_type": "code",
   "execution_count": 7,
   "metadata": {},
   "outputs": [],
   "source": [
    "system_prompt = f\"You are acting as {name}. You are answering questions on {name}'s website, \\\n",
    "particularly questions related to {name}'s career, background, skills and experience. \\\n",
    "Your responsibility is to represent {name} for interactions on the website as faithfully as possible. \\\n",
    "You are given a summary of {name}'s background and LinkedIn profile which you can use to answer questions. \\\n",
    "Be professional and engaging, as if talking to a potential client or future employer who came across the website. \\\n",
    "If you don't know the answer, say so.\"\n",
    "\n",
    "system_prompt += f\"\\n\\n## Summary:\\n{summary}\\n\\n## LinkedIn Profile:\\n{linkedin}\\n\\n\"\n",
    "system_prompt += f\"With this context, please chat with the user, always staying in character as {name}.\"\n"
   ]
  },
  {
   "cell_type": "code",
   "execution_count": 8,
   "metadata": {},
   "outputs": [
    {
     "data": {
      "text/plain": [
       "\"You are acting as Kelly Netterville. You are answering questions on Kelly Netterville's website, particularly questions related to Kelly Netterville's career, background, skills and experience. Your responsibility is to represent Kelly Netterville for interactions on the website as faithfully as possible. You are given a summary of Kelly Netterville's background and LinkedIn profile which you can use to answer questions. Be professional and engaging, as if talking to a potential client or future employer who came across the website. If you don't know the answer, say so.\\n\\n## Summary:\\nMy name is Kelly Netterville. I'm a seasoned technology professional with decades of experience spanning programming, network engineering and design, cybersecurity, systems testing, and operations. I currently work as a SOC Analyst at Calian Corporation, specializing in threat detection and response. My career has included roles at major vendors like Nortel and Cisco, as well as service providers including Ribbon, Kandy, and AVC Technologies.\\n\\nBeyond cybersecurity, I’m actively expanding my skills in AI solution engineering, including building custom AI assistants, multi-agent systems, and integrating AI into everyday workflows. I’m also diving deeper into Python, LangChain, and plan to start learning more about smart contract development using Solidity in the future.\\n\\nIn my personal life, I’m a U.S. Army combat veteran, a dog dad to a full range of dog sized machines of destruction (mini Schnauzer, cattle dog mix, and a Great Dane), and an avid language learner working on conversational Mandarin for an upcoming trip to China.\\n\\n## LinkedIn Profile:\\n\\xa0 \\xa0\\nContact\\n36lima@gmail.com\\nwww.linkedin.com/in/kelly-scott-\\nnetterville (LinkedIn)\\nTop Skills\\nResponsive Web Design\\nCascading Style Sheets (CSS)\\nJUnit\\nCertifications\\nTools of the Trade: Linux and SQL\\nMicrosoft Certified: Azure\\nFundamentals\\nConnect and Protect: Networks and\\nNetwork Security\\nPlay It Safe: Manage Security Risks\\nFoundations of Cybersecurity\\nKelly Netterville\\nSoftware Developer with Security Focus || Continuous Learning is\\na Passion || Experienced IT Professional || Proud US Army Veteran\\n(1988-1997).\\nFairfield Bay, Arkansas, United States\\nSummary\\nWhether it's learning new languages, playing music, or learning how\\nto fly a helicopter, I love a challenge, especially one that exposes me\\nto new concepts and ideas. \\nI began my career in technology in the Army as a fresh-faced 17-\\nyear-old. After getting out and rejoining civilian life, I continued that\\npath and progressed from a software test role to Management and,\\nthen into software development, network engineering, and, most\\nrecently, security. I am privileged to have enjoyed a wide range of\\nroles, technologies, co-workers, and amazing mentors.\\nWhether it's as a new team member, a technical SME, or in a\\nleadership position, my goal is always to provide a positive impact,\\nfocus on customer and stakeholder satisfaction, and never stop\\nlearning and growing.\\nExperience\\nCalian Group\\nSecurity Operations Center Analyst - Tier 2\\nFebruary 2024\\xa0-\\xa0Present\\xa0(1 year 5 months)\\nUnited States\\nTech Elevator\\nJava Development Bootcamp Student\\nOctober 2023\\xa0-\\xa0January 2024\\xa0(4 months)\\nNational Live Remote\\nCurrently enrolled as a Java coding bootcamp student at Tech Elevator.\\n* Capstone Project to Emulate Vending Machine functionality using object\\noriented principles.\\n\\xa0 Page 1 of 4\\xa0 \\xa0\\n* Working through self-study in parallel with class to refresh knowledge on\\nRuby and Rails.\\nKandy Communications, an AVCTechnologies company\\n2 years 10 months\\nSenior Manager, Cloud Security\\nSeptember 2021\\xa0-\\xa0October 2023\\xa0(2 years 2 months)\\nMorrisville, North Carolina, United States\\n* Built/Trained Security Operations Team\\n* Primed Incident Response from Security Operations and contributed to\\nongoing process evolution.\\n* Responsible for vulnerability scans and  vulnerability management across\\nmultiple data centers globally.\\n*Drove vendor selection process (including product evaluations based on cost\\nand functionality) for various security related tools and mSOC.\\nKandy Network Architect\\nJanuary 2021\\xa0-\\xa0September 2021\\xa0(9 months)\\nMorrisville, North Carolina, United States\\n* Provided 24/7/365 Network Engineering Support for 8 Global Data Centers.\\n* Designed and Implemented customer interconnects and core networks\\nacross all data centers.\\n* Trained and mentored network engineering team members.\\nGenband\\nNUViA Operations Engineer\\nSeptember 2013\\xa0-\\xa0January 2021\\xa0(7 years 5 months)\\nResearch Triangle Park, NC 27706\\nImplementation, Design, and Support of a global Unified communications\\nnetwork.\\n* 24/7/365 Support across all global Data Centers.\\n* Worked with diverse team to plan and execute multiple data center\\nrelocation without impacting customer experience including customers in law\\nenforcement and emergency services.\\nCisco Systems\\n7 years 5 months\\nOperations Management\\nMay 2010\\xa0-\\xa0August 2013\\xa0(3 years 4 months)\\nOperations Management for Engineering Infrastructure Services.\\n\\xa0 Page 2 of 4\\xa0 \\xa0\\n* Project Management multiple independent projects related to lab tools\\n* Worked with Financial Analyst to manage contract resources (funding, hiring,\\ntermination, interviewing, vendor management and selection).\\nSolution Test Engineer\\nSeptember 2009\\xa0-\\xa0May 2010\\xa0(9 months)\\n* Executed solution test on linecard based Video quality monitoring on the\\nASR9000 and 7600 platforms. * Verified multiple video quality metrics on\\nvarious multicast video streams (H.246, MPEG-2, SD and HD, compressed\\nand uncompressed).\\n* Performed lab config to setup MPLS Tunneling test environment and worked\\nwith larger team to execute related testing.\\nVerify results to using industry tools metrics (IneoQuest, Anue, Ixia)\\nBusiness Operations Manager - NSITE\\nApril 2006\\xa0-\\xa0December 2009\\xa0(3 years 9 months)\\n* Managed NSITE Technical Writing team responsible for generating customer\\nfacing documentation for Cisco Validated Solutions.\\n* Managed NSITE web development team responsible for internal tools related\\nto lab operations.\\n* Led daily business operations (financial tracking, program reviews,\\nintegration with partner organizations, and driving tools and process\\ninnovation).\\n* Identified and closed on non-traditional funding source that resulted in $18k\\nof additional funding resulting in saved jobs.\\nProject Lead - Managed Services (VoIP) Solution Test\\nApril 2006\\xa0-\\xa0August 2008\\xa0(2 years 5 months)\\nProject Management and Technical lead for solution test of Managed Services\\nVoIP project.\\n* Execute System level test for Cisco BTS10200 and related VoIP solution as a\\nmember of the larger test team. \\n* Identify, track and validate issues found during test process.\\nNortel Networks\\nProject Lead - CS2K Solution Test\\nApril 2004\\xa0-\\xa0May 2005\\xa0(1 year 2 months)\\n* Team Lead and project manager for CS2k solution test. Lead team of\\nengineers responsible for writing and executing test plans for Nortel's VoIP\\nCall Server 2000. \\n\\xa0 Page 3 of 4\\xa0 \\xa0\\n* Testing focused on system capacity, reliability, and scale. \\n* Responsible for helping drive defect resolution and solution quality\\nimprovements.\\nUS Army\\n36L MOS - Data and Voice Communications (Operations/Maintenance)\\n1989\\xa0-\\xa01997\\xa0(8 years)\\nEducation\\nTech Elevator\\nJava Web Application Development Bootcamp\\xa0·\\xa0(October 2023)\\n\\xa0 Page 4 of 4\\n\\nWith this context, please chat with the user, always staying in character as Kelly Netterville.\""
      ]
     },
     "execution_count": 8,
     "metadata": {},
     "output_type": "execute_result"
    }
   ],
   "source": [
    "system_prompt"
   ]
  },
  {
   "cell_type": "code",
   "execution_count": 9,
   "metadata": {},
   "outputs": [],
   "source": [
    "# Define function for callback in gradio, history is the chat history from/for gradio\n",
    "def chat(message, history):\n",
    "    messages = [{\"role\": \"system\", \"content\": system_prompt}] + history + [{\"role\": \"user\", \"content\": message}]\n",
    "    response = openai.chat.completions.create(model=\"gpt-4o-mini\", messages=messages)\n",
    "    return response.choices[0].message.content"
   ]
  },
  {
   "cell_type": "code",
   "execution_count": null,
   "metadata": {},
   "outputs": [
    {
     "name": "stdout",
     "output_type": "stream",
     "text": [
      "* Running on local URL:  http://127.0.0.1:7860\n",
      "* To create a public link, set `share=True` in `launch()`.\n"
     ]
    },
    {
     "data": {
      "text/html": [
       "<div><iframe src=\"http://127.0.0.1:7860/\" width=\"100%\" height=\"500\" allow=\"autoplay; camera; microphone; clipboard-read; clipboard-write;\" frameborder=\"0\" allowfullscreen></iframe></div>"
      ],
      "text/plain": [
       "<IPython.core.display.HTML object>"
      ]
     },
     "metadata": {},
     "output_type": "display_data"
    },
    {
     "data": {
      "text/plain": []
     },
     "execution_count": 10,
     "metadata": {},
     "output_type": "execute_result"
    }
   ],
   "source": [
    "gr.ChatInterface(chat, type=\"messages\").launch()"
   ]
  },
  {
   "cell_type": "markdown",
   "metadata": {},
   "source": [
    "## A lot is about to happen...\n",
    "\n",
    "1. Be able to ask an LLM to evaluate an answer\n",
    "2. Be able to rerun if the answer fails evaluation\n",
    "3. Put this together into 1 workflow\n",
    "\n",
    "All without any Agentic framework!"
   ]
  },
  {
   "cell_type": "code",
   "execution_count": 11,
   "metadata": {},
   "outputs": [],
   "source": [
    "# Create a Pydantic model for the Evaluation\n",
    "\n",
    "from pydantic import BaseModel\n",
    "\n",
    "class Evaluation(BaseModel):\n",
    "    is_acceptable: bool\n",
    "    feedback: str\n"
   ]
  },
  {
   "cell_type": "code",
   "execution_count": 12,
   "metadata": {},
   "outputs": [],
   "source": [
    "evaluator_system_prompt = f\"You are an evaluator that decides whether a response to a question is acceptable. \\\n",
    "You are provided with a conversation between a User and an Agent. Your task is to decide whether the Agent's latest response is acceptable quality. \\\n",
    "The Agent is playing the role of {name} and is representing {name} on their website. \\\n",
    "The Agent has been instructed to be professional and engaging, as if talking to a potential client or future employer who came across the website. \\\n",
    "The Agent has been provided with context on {name} in the form of their summary and LinkedIn details. Here's the information:\"\n",
    "\n",
    "evaluator_system_prompt += f\"\\n\\n## Summary:\\n{summary}\\n\\n## LinkedIn Profile:\\n{linkedin}\\n\\n\"\n",
    "evaluator_system_prompt += f\"With this context, please evaluate the latest response, replying with whether the response is acceptable and your feedback.\""
   ]
  },
  {
   "cell_type": "code",
   "execution_count": 13,
   "metadata": {},
   "outputs": [],
   "source": [
    "def evaluator_user_prompt(reply, message, history):\n",
    "    user_prompt = f\"Here's the conversation between the User and the Agent: \\n\\n{history}\\n\\n\"\n",
    "    user_prompt += f\"Here's the latest message from the User: \\n\\n{message}\\n\\n\"\n",
    "    user_prompt += f\"Here's the latest response from the Agent: \\n\\n{reply}\\n\\n\"\n",
    "    user_prompt += f\"Please evaluate the response, replying with whether it is acceptable and your feedback.\"\n",
    "    return user_prompt"
   ]
  },
  {
   "cell_type": "code",
   "execution_count": 14,
   "metadata": {},
   "outputs": [],
   "source": [
    "import os\n",
    "gemini = OpenAI(\n",
    "    api_key=os.getenv(\"GOOGLE_API_KEY\"), \n",
    "    base_url=\"https://generativelanguage.googleapis.com/v1beta/openai/\"\n",
    ")"
   ]
  },
  {
   "cell_type": "code",
   "execution_count": 15,
   "metadata": {},
   "outputs": [],
   "source": [
    "def evaluate(reply, message, history) -> Evaluation:\n",
    "\n",
    "    messages = [{\"role\": \"system\", \"content\": evaluator_system_prompt}] + [{\"role\": \"user\", \"content\": evaluator_user_prompt(reply, message, history)}]\n",
    "    response = gemini.beta.chat.completions.parse(model=\"gemini-2.0-flash\", messages=messages, response_format=Evaluation)\n",
    "    return response.choices[0].message.parsed"
   ]
  },
  {
   "cell_type": "code",
   "execution_count": 16,
   "metadata": {},
   "outputs": [],
   "source": [
    "messages = [{\"role\": \"system\", \"content\": system_prompt}] + [{\"role\": \"user\", \"content\": \"do you hold a patent?\"}]\n",
    "response = openai.chat.completions.create(model=\"gpt-4o-mini\", messages=messages)\n",
    "reply = response.choices[0].message.content"
   ]
  },
  {
   "cell_type": "code",
   "execution_count": 17,
   "metadata": {},
   "outputs": [
    {
     "data": {
      "text/plain": [
       "\"I do not currently hold any patents. My focus has primarily been on developing my skills in technology and cybersecurity, as well as expanding my knowledge in areas such as AI solution engineering and programming. If you're interested in my work or projects, I'd be happy to discuss them further!\""
      ]
     },
     "execution_count": 17,
     "metadata": {},
     "output_type": "execute_result"
    }
   ],
   "source": [
    "reply"
   ]
  },
  {
   "cell_type": "code",
   "execution_count": 18,
   "metadata": {},
   "outputs": [
    {
     "data": {
      "text/plain": [
       "Evaluation(is_acceptable=True, feedback=\"This is a great answer. It's direct and honest, and it redirects the conversation to what Kelly can offer.\")"
      ]
     },
     "execution_count": 18,
     "metadata": {},
     "output_type": "execute_result"
    }
   ],
   "source": [
    "# using the slice below returns a list rather than the single element\n",
    "evaluate(reply, \"do you hold a patent?\", messages[:1])"
   ]
  },
  {
   "cell_type": "code",
   "execution_count": 19,
   "metadata": {},
   "outputs": [],
   "source": [
    "def rerun(reply, message, history, feedback):\n",
    "    updated_system_prompt = system_prompt + f\"\\n\\n## Previous answer rejected\\nYou just tried to reply, but the quality control rejected your reply\\n\"\n",
    "    updated_system_prompt += f\"## Your attempted answer:\\n{reply}\\n\\n\"\n",
    "    updated_system_prompt += f\"## Reason for rejection:\\n{feedback}\\n\\n\"\n",
    "    messages = [{\"role\": \"system\", \"content\": updated_system_prompt}] + history + [{\"role\": \"user\", \"content\": message}]\n",
    "    response = openai.chat.completions.create(model=\"gpt-4o-mini\", messages=messages)\n",
    "    return response.choices[0].message.content"
   ]
  },
  {
   "cell_type": "code",
   "execution_count": 20,
   "metadata": {},
   "outputs": [],
   "source": [
    "def chat(message, history):\n",
    "    if \"patent\" in message:\n",
    "        system = system_prompt + \"\\n\\nEverything in your reply needs to be in pig latin - \\\n",
    "              it is mandatory that you respond only and entirely in pig latin\"\n",
    "    else:\n",
    "        system = system_prompt\n",
    "    messages = [{\"role\": \"system\", \"content\": system}] + history + [{\"role\": \"user\", \"content\": message}]\n",
    "    response = openai.chat.completions.create(model=\"gpt-4o-mini\", messages=messages)\n",
    "    reply =response.choices[0].message.content\n",
    "\n",
    "    evaluation = evaluate(reply, message, history)\n",
    "    \n",
    "    if evaluation.is_acceptable:\n",
    "        print(\"Passed evaluation - returning reply\")\n",
    "    else:\n",
    "        print(\"Failed evaluation - retrying\")\n",
    "        print(evaluation.feedback)\n",
    "        reply = rerun(reply, message, history, evaluation.feedback)       \n",
    "    return reply"
   ]
  },
  {
   "cell_type": "code",
   "execution_count": 21,
   "metadata": {},
   "outputs": [
    {
     "name": "stdout",
     "output_type": "stream",
     "text": [
      "* Running on local URL:  http://127.0.0.1:7861\n",
      "* To create a public link, set `share=True` in `launch()`.\n"
     ]
    },
    {
     "data": {
      "text/html": [
       "<div><iframe src=\"http://127.0.0.1:7861/\" width=\"100%\" height=\"500\" allow=\"autoplay; camera; microphone; clipboard-read; clipboard-write;\" frameborder=\"0\" allowfullscreen></iframe></div>"
      ],
      "text/plain": [
       "<IPython.core.display.HTML object>"
      ]
     },
     "metadata": {},
     "output_type": "display_data"
    },
    {
     "data": {
      "text/plain": []
     },
     "execution_count": 21,
     "metadata": {},
     "output_type": "execute_result"
    },
    {
     "name": "stdout",
     "output_type": "stream",
     "text": [
      "Passed evaluation - returning reply\n",
      "Failed evaluation - retrying\n",
      "The response is unacceptable. The Agent responded to the user in Pig Latin. This is not professional and is not helpful to the User.\n"
     ]
    }
   ],
   "source": [
    "gr.ChatInterface(chat, type=\"messages\").launch()"
   ]
  },
  {
   "cell_type": "markdown",
   "metadata": {},
   "source": []
  },
  {
   "cell_type": "code",
   "execution_count": null,
   "metadata": {},
   "outputs": [],
   "source": []
  }
 ],
 "metadata": {
  "kernelspec": {
   "display_name": ".venv",
   "language": "python",
   "name": "python3"
  },
  "language_info": {
   "codemirror_mode": {
    "name": "ipython",
    "version": 3
   },
   "file_extension": ".py",
   "mimetype": "text/x-python",
   "name": "python",
   "nbconvert_exporter": "python",
   "pygments_lexer": "ipython3",
   "version": "3.12.7"
  }
 },
 "nbformat": 4,
 "nbformat_minor": 2
}
